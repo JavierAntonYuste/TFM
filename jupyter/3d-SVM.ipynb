{
 "cells": [
  {
   "cell_type": "markdown",
   "id": "b3983819",
   "metadata": {},
   "source": [
    "# Usando nuevo dataset"
   ]
  },
  {
   "cell_type": "markdown",
   "id": "07d368ef",
   "metadata": {},
   "source": [
    "# Importando dataset"
   ]
  },
  {
   "cell_type": "code",
   "execution_count": 1,
   "id": "b6b49a0c",
   "metadata": {},
   "outputs": [],
   "source": [
    "import jsonlines\n",
    "import pandas as pd\n",
    "\n",
    "with jsonlines.open('Dataset/SMHD/SMHD_eating_train.jsonl') as reader:\n",
    "    count=0\n",
    "    df_train = pd.DataFrame()\n",
    "    for obj in reader:\n",
    "        count=count+1\n",
    "        lines = reader.read()\n",
    "        df_inter=pd.json_normalize(lines, record_path=['posts'], meta=['id', 'label'])\n",
    "        df_train=pd.concat([df_train,df_inter], axis=0)\n",
    "        \n",
    "with jsonlines.open('Dataset/SMHD/SMHD_eating_test.jsonl') as reader:\n",
    "    count=0\n",
    "    df_test = pd.DataFrame()\n",
    "    for obj in reader:\n",
    "        count=count+1\n",
    "        lines = reader.read()\n",
    "        df_inter=pd.json_normalize(lines, record_path=['posts'], meta=['id', 'label'])\n",
    "        df_test=pd.concat([df_test,df_inter], axis=0)\n",
    "\n",
    "with jsonlines.open('Dataset/SMHD/SMHD_eating_dev.jsonl') as reader:\n",
    "    count=0\n",
    "    df_dev = pd.DataFrame()\n",
    "    for obj in reader:\n",
    "        count=count+1\n",
    "        lines = reader.read()\n",
    "        df_inter=pd.json_normalize(lines, record_path=['posts'], meta=['id', 'label'])\n",
    "        df_dev=pd.concat([df_dev,df_inter], axis=0)"
   ]
  },
  {
   "cell_type": "markdown",
   "id": "d9bc339d",
   "metadata": {},
   "source": [
    "### Borramos columnas innecesarias"
   ]
  },
  {
   "cell_type": "code",
   "execution_count": 2,
   "id": "1b99ed75",
   "metadata": {},
   "outputs": [],
   "source": [
    "data = pd.concat([df_train, df_test, df_dev])\n",
    "data.drop(['selftext', 'body', 'created_utc', 'title'], axis=1, inplace=True)"
   ]
  },
  {
   "cell_type": "code",
   "execution_count": 3,
   "id": "96add7d5",
   "metadata": {},
   "outputs": [
    {
     "data": {
      "text/html": [
       "<div>\n",
       "<style scoped>\n",
       "    .dataframe tbody tr th:only-of-type {\n",
       "        vertical-align: middle;\n",
       "    }\n",
       "\n",
       "    .dataframe tbody tr th {\n",
       "        vertical-align: top;\n",
       "    }\n",
       "\n",
       "    .dataframe thead th {\n",
       "        text-align: right;\n",
       "    }\n",
       "</style>\n",
       "<table border=\"1\" class=\"dataframe\">\n",
       "  <thead>\n",
       "    <tr style=\"text-align: right;\">\n",
       "      <th></th>\n",
       "      <th>text</th>\n",
       "      <th>id</th>\n",
       "      <th>label</th>\n",
       "    </tr>\n",
       "  </thead>\n",
       "  <tbody>\n",
       "    <tr>\n",
       "      <th>0</th>\n",
       "      <td>Added :)</td>\n",
       "      <td>2003202</td>\n",
       "      <td>1</td>\n",
       "    </tr>\n",
       "    <tr>\n",
       "      <th>1</th>\n",
       "      <td>Added :)</td>\n",
       "      <td>2003202</td>\n",
       "      <td>1</td>\n",
       "    </tr>\n",
       "    <tr>\n",
       "      <th>2</th>\n",
       "      <td>I lost 80lbs after moving out of my parents ho...</td>\n",
       "      <td>2003202</td>\n",
       "      <td>1</td>\n",
       "    </tr>\n",
       "    <tr>\n",
       "      <th>3</th>\n",
       "      <td>I tried adding you again. Let me know if it wo...</td>\n",
       "      <td>2003202</td>\n",
       "      <td>1</td>\n",
       "    </tr>\n",
       "    <tr>\n",
       "      <th>4</th>\n",
       "      <td>Added!</td>\n",
       "      <td>2003202</td>\n",
       "      <td>1</td>\n",
       "    </tr>\n",
       "    <tr>\n",
       "      <th>...</th>\n",
       "      <td>...</td>\n",
       "      <td>...</td>\n",
       "      <td>...</td>\n",
       "    </tr>\n",
       "    <tr>\n",
       "      <th>497</th>\n",
       "      <td>Thanks</td>\n",
       "      <td>1455910</td>\n",
       "      <td>0</td>\n",
       "    </tr>\n",
       "    <tr>\n",
       "      <th>498</th>\n",
       "      <td>[removed]</td>\n",
       "      <td>1455910</td>\n",
       "      <td>0</td>\n",
       "    </tr>\n",
       "    <tr>\n",
       "      <th>499</th>\n",
       "      <td>Woooosh</td>\n",
       "      <td>1455910</td>\n",
       "      <td>0</td>\n",
       "    </tr>\n",
       "    <tr>\n",
       "      <th>500</th>\n",
       "      <td>Ipad air 2 - 9.0.1 jailbreak. Should I update?...</td>\n",
       "      <td>1455910</td>\n",
       "      <td>0</td>\n",
       "    </tr>\n",
       "    <tr>\n",
       "      <th>501</th>\n",
       "      <td>Hello,\\n\\nI have an iPad Air2 9.0.1 with pangu...</td>\n",
       "      <td>1455910</td>\n",
       "      <td>0</td>\n",
       "    </tr>\n",
       "  </tbody>\n",
       "</table>\n",
       "<p>76203 rows × 3 columns</p>\n",
       "</div>"
      ],
      "text/plain": [
       "                                                  text       id label\n",
       "0                                             Added :)  2003202     1\n",
       "1                                             Added :)  2003202     1\n",
       "2    I lost 80lbs after moving out of my parents ho...  2003202     1\n",
       "3    I tried adding you again. Let me know if it wo...  2003202     1\n",
       "4                                               Added!  2003202     1\n",
       "..                                                 ...      ...   ...\n",
       "497                                             Thanks  1455910     0\n",
       "498                                          [removed]  1455910     0\n",
       "499                                            Woooosh  1455910     0\n",
       "500  Ipad air 2 - 9.0.1 jailbreak. Should I update?...  1455910     0\n",
       "501  Hello,\\n\\nI have an iPad Air2 9.0.1 with pangu...  1455910     0\n",
       "\n",
       "[76203 rows x 3 columns]"
      ]
     },
     "execution_count": 3,
     "metadata": {},
     "output_type": "execute_result"
    }
   ],
   "source": [
    "data"
   ]
  },
  {
   "cell_type": "markdown",
   "id": "7cecec8b",
   "metadata": {},
   "source": [
    "# Hacer join de los text de los mismos ids"
   ]
  },
  {
   "cell_type": "code",
   "execution_count": 4,
   "id": "ba966d39",
   "metadata": {},
   "outputs": [],
   "source": [
    "data_grouped=data.groupby(['id', 'label']).text.apply(list).transform(lambda x : ' '.join(x)).reset_index()"
   ]
  },
  {
   "cell_type": "markdown",
   "id": "e7baf855",
   "metadata": {},
   "source": [
    "# Tokenizado y eliminacion de stopwords"
   ]
  },
  {
   "cell_type": "code",
   "execution_count": 5,
   "id": "e29568ee",
   "metadata": {},
   "outputs": [],
   "source": [
    "import nltk\n",
    "from nltk.corpus import stopwords\n",
    "from nltk.tokenize import word_tokenize\n",
    "import string\n",
    "\n",
    "def preprocess(words, type='doc'):\n",
    "    tokens = nltk.word_tokenize(words)\n",
    "    porter = nltk.PorterStemmer()\n",
    "    lemmas = [porter.stem(t) for t in tokens]\n",
    "    stoplist = stopwords.words('english')\n",
    "    lemmas_clean = [w for w in tokens if w not in stoplist]\n",
    "    punctuation = set(string.punctuation)\n",
    "    words = [w for w in lemmas_clean if  w not in punctuation]\n",
    "    return words\n",
    "\n",
    "def preprocesssimple(words, type='doc'):\n",
    "    stoplist = stopwords.words('english')\n",
    "    lemmas_clean = [w for w in words if w not in stoplist]\n",
    "    return words"
   ]
  },
  {
   "cell_type": "code",
   "execution_count": 6,
   "id": "1d524b8d",
   "metadata": {},
   "outputs": [],
   "source": [
    "data_grouped['text'] = data_grouped.apply(lambda row: preprocess(row['text']), axis=1)"
   ]
  },
  {
   "cell_type": "markdown",
   "id": "9c850715",
   "metadata": {},
   "source": [
    "# Modelizacion"
   ]
  },
  {
   "cell_type": "code",
   "execution_count": 7,
   "id": "6a2aa503",
   "metadata": {},
   "outputs": [],
   "source": [
    "import sklearn\n",
    "from sklearn.model_selection import train_test_split\n",
    "from sklearn.feature_extraction.text import TfidfVectorizer\n",
    "\n",
    "x = data_grouped['text']\n",
    "y = data_grouped['label']\n",
    "\n",
    "vectorizer = TfidfVectorizer(analyzer='word', stop_words='english')\n",
    "\n",
    "x = vectorizer.fit_transform(x.apply(lambda x: ' '.join(x)))\n",
    "\n",
    "x_train, x_test, y_train, y_test = train_test_split(x, y, test_size=0.3, random_state=42)"
   ]
  },
  {
   "cell_type": "code",
   "execution_count": 8,
   "id": "247e8536",
   "metadata": {},
   "outputs": [
    {
     "data": {
      "text/plain": [
       "SVC()"
      ]
     },
     "execution_count": 8,
     "metadata": {},
     "output_type": "execute_result"
    }
   ],
   "source": [
    "from sklearn import svm\n",
    "\n",
    "classifier = svm.SVC()\n",
    "y_train=y_train.astype('int')\n",
    "classifier.fit(x_train, y_train)"
   ]
  },
  {
   "cell_type": "code",
   "execution_count": 22,
   "id": "010ed8db",
   "metadata": {},
   "outputs": [
    {
     "name": "stdout",
     "output_type": "stream",
     "text": [
      "[[42  5]\n",
      " [12 41]]\n",
      "              precision    recall  f1-score   support\n",
      "\n",
      "           0       0.78      0.89      0.83        47\n",
      "           1       0.89      0.77      0.83        53\n",
      "\n",
      "    accuracy                           0.83       100\n",
      "   macro avg       0.83      0.83      0.83       100\n",
      "weighted avg       0.84      0.83      0.83       100\n",
      "\n",
      "0.83\n",
      "[CV] END .........................C=0.1, gamma=1, kernel=rbf; total time=   0.8s\n",
      "[CV] END ....................C=0.1, gamma=0.0001, kernel=rbf; total time=   1.0s\n",
      "[CV] END .........................C=1, gamma=0.1, kernel=rbf; total time=   1.5s\n",
      "[CV] END ........................C=10, gamma=0.1, kernel=rbf; total time=   1.4s\n",
      "[CV] END .........................C=100, gamma=1, kernel=rbf; total time=   2.3s\n",
      "[CV] END ......................C=1000, gamma=0.1, kernel=rbf; total time=   1.1s\n",
      "[CV] END ......................C=0.1, gamma=0.01, kernel=rbf; total time=   1.6s\n",
      "[CV] END ......................C=1, gamma=0.0001, kernel=rbf; total time=   1.6s\n",
      "[CV] END ......................C=10, gamma=0.001, kernel=rbf; total time=   2.4s\n",
      "[CV] END ........................C=1000, gamma=1, kernel=rbf; total time=   1.6s\n",
      "[CV] END .....................C=0.1, gamma=0.001, kernel=rbf; total time=   0.9s\n",
      "[CV] END ...........................C=1, gamma=1, kernel=rbf; total time=   1.4s\n",
      "[CV] END ......................C=1, gamma=0.0001, kernel=rbf; total time=   1.7s\n",
      "[CV] END .........................C=100, gamma=1, kernel=rbf; total time=   2.2s\n",
      "[CV] END ......................C=1000, gamma=0.1, kernel=rbf; total time=   1.5s\n",
      "[CV] END .........................C=0.1, gamma=1, kernel=rbf; total time=   1.3s\n",
      "[CV] END ....................C=0.1, gamma=0.0001, kernel=rbf; total time=   0.9s\n",
      "[CV] END .........................C=1, gamma=0.1, kernel=rbf; total time=   1.6s\n",
      "[CV] END ........................C=10, gamma=0.1, kernel=rbf; total time=   1.6s\n",
      "[CV] END .......................C=100, gamma=0.1, kernel=rbf; total time=   2.1s\n",
      "[CV] END ......................C=1000, gamma=0.1, kernel=rbf; total time=   1.4s\n",
      "[CV] END ......................C=0.1, gamma=0.01, kernel=rbf; total time=   1.5s\n",
      "[CV] END .......................C=1, gamma=0.001, kernel=rbf; total time=   1.2s\n",
      "[CV] END .......................C=10, gamma=0.01, kernel=rbf; total time=   1.5s\n",
      "[CV] END .......................C=100, gamma=0.1, kernel=rbf; total time=   0.8s\n",
      "[CV] END .....................C=100, gamma=0.001, kernel=rbf; total time=   0.9s\n",
      "[CV] END ........................C=1000, gamma=1, kernel=rbf; total time=   1.0s\n",
      "[CV] END ...................C=1000, gamma=0.0001, kernel=rbf; total time=   0.8s\n",
      "[CV] END .......................C=0.1, gamma=0.1, kernel=rbf; total time=   1.3s\n",
      "[CV] END ...........................C=1, gamma=1, kernel=rbf; total time=   1.3s\n",
      "[CV] END .......................C=1, gamma=0.001, kernel=rbf; total time=   1.0s\n",
      "[CV] END ........................C=10, gamma=0.1, kernel=rbf; total time=   1.0s\n",
      "[CV] END .....................C=10, gamma=0.0001, kernel=rbf; total time=   0.7s\n",
      "[CV] END .......................C=100, gamma=0.1, kernel=rbf; total time=   1.0s\n",
      "[CV] END ....................C=100, gamma=0.0001, kernel=rbf; total time=   0.7s\n",
      "[CV] END ........................C=1000, gamma=1, kernel=rbf; total time=   0.7s\n",
      "[CV] END ....................C=1000, gamma=0.001, kernel=rbf; total time=   0.9s\n",
      "[CV] END .....................C=0.1, gamma=0.001, kernel=rbf; total time=   1.3s\n",
      "[CV] END ........................C=1, gamma=0.01, kernel=rbf; total time=   1.1s\n",
      "[CV] END ..........................C=10, gamma=1, kernel=rbf; total time=   1.1s\n",
      "[CV] END .....................C=10, gamma=0.0001, kernel=rbf; total time=   1.3s\n",
      "[CV] END .....................C=100, gamma=0.001, kernel=rbf; total time=   0.9s\n",
      "[CV] END ....................C=100, gamma=0.0001, kernel=rbf; total time=   0.7s\n",
      "[CV] END ....................C=1000, gamma=0.001, kernel=rbf; total time=   1.5s\n",
      "[CV] END ......................C=0.1, gamma=0.01, kernel=rbf; total time=   1.5s\n",
      "[CV] END ........................C=1, gamma=0.01, kernel=rbf; total time=   1.3s\n",
      "[CV] END ..........................C=10, gamma=1, kernel=rbf; total time=   0.8s\n",
      "[CV] END ......................C=10, gamma=0.001, kernel=rbf; total time=   0.7s\n",
      "[CV] END .........................C=100, gamma=1, kernel=rbf; total time=   1.7s\n",
      "[CV] END ....................C=100, gamma=0.0001, kernel=rbf; total time=   0.8s\n",
      "[CV] END .....................C=1000, gamma=0.01, kernel=rbf; total time=   0.8s\n",
      "[CV] END ...................C=1000, gamma=0.0001, kernel=rbf; total time=   0.8s\n",
      "[CV] END .....................C=0.1, gamma=0.001, kernel=rbf; total time=   1.0s\n",
      "[CV] END ........................C=1, gamma=0.01, kernel=rbf; total time=   1.5s\n",
      "[CV] END .......................C=10, gamma=0.01, kernel=rbf; total time=   1.7s\n",
      "[CV] END ......................C=100, gamma=0.01, kernel=rbf; total time=   2.2s\n",
      "[CV] END ....................C=1000, gamma=0.001, kernel=rbf; total time=   1.5s\n",
      "[CV] END .........................C=0.1, gamma=1, kernel=rbf; total time=   1.6s\n",
      "[CV] END ....................C=0.1, gamma=0.0001, kernel=rbf; total time=   1.3s\n",
      "[CV] END .........................C=1, gamma=0.1, kernel=rbf; total time=   1.0s\n",
      "[CV] END ......................C=1, gamma=0.0001, kernel=rbf; total time=   1.2s\n",
      "[CV] END .......................C=10, gamma=0.01, kernel=rbf; total time=   1.4s\n",
      "[CV] END ......................C=100, gamma=0.01, kernel=rbf; total time=   1.9s\n",
      "[CV] END .....................C=1000, gamma=0.01, kernel=rbf; total time=   1.7s\n",
      "[CV] END .......................C=0.1, gamma=0.1, kernel=rbf; total time=   1.6s\n",
      "[CV] END .......................C=1, gamma=0.001, kernel=rbf; total time=   1.6s\n",
      "[CV] END ......................C=10, gamma=0.001, kernel=rbf; total time=   1.5s\n",
      "[CV] END ......................C=100, gamma=0.01, kernel=rbf; total time=   1.5s\n",
      "[CV] END .....................C=1000, gamma=0.01, kernel=rbf; total time=   1.8s\n",
      "[CV] END .......................C=0.1, gamma=0.1, kernel=rbf; total time=   1.5s\n",
      "[CV] END ...........................C=1, gamma=1, kernel=rbf; total time=   1.6s\n",
      "[CV] END ..........................C=10, gamma=1, kernel=rbf; total time=   1.3s\n",
      "[CV] END .....................C=10, gamma=0.0001, kernel=rbf; total time=   1.6s\n",
      "[CV] END .....................C=100, gamma=0.001, kernel=rbf; total time=   1.9s\n",
      "[CV] END ...................C=1000, gamma=0.0001, kernel=rbf; total time=   1.2s\n"
     ]
    }
   ],
   "source": [
    "y_pred = classifier.predict(x_test)\n",
    "\n",
    "from sklearn.metrics import classification_report, confusion_matrix, accuracy_score\n",
    "print(confusion_matrix(y_test,y_pred))\n",
    "print(classification_report(y_test,y_pred))\n",
    "print(accuracy_score(y_test, y_pred))"
   ]
  },
  {
   "cell_type": "markdown",
   "id": "05b05449",
   "metadata": {},
   "source": [
    "# KFold CrossValScore"
   ]
  },
  {
   "cell_type": "code",
   "execution_count": 10,
   "id": "7b3f4dd0",
   "metadata": {},
   "outputs": [],
   "source": [
    "from sklearn.model_selection import train_test_split\n",
    "from sklearn.model_selection import KFold, cross_val_score"
   ]
  },
  {
   "cell_type": "code",
   "execution_count": 11,
   "id": "c01acbf9",
   "metadata": {},
   "outputs": [
    {
     "name": "stdout",
     "output_type": "stream",
     "text": [
      "KFold CrossValScore Using Random Forest 0.8278154681139757\n"
     ]
    }
   ],
   "source": [
    "kf = KFold(n_splits=10, shuffle=False)\n",
    "print('KFold CrossValScore Using Random Forest %s' % cross_val_score(classifier,x, y, cv=5).mean())"
   ]
  },
  {
   "cell_type": "code",
   "execution_count": 13,
   "id": "954a4eb2",
   "metadata": {},
   "outputs": [
    {
     "name": "stdout",
     "output_type": "stream",
     "text": [
      "{'C': [0.1, 1, 10, 100, 1000], 'gamma': [1, 0.1, 0.01, 0.001, 0.0001], 'kernel': ['rbf']}\n"
     ]
    }
   ],
   "source": [
    "from sklearn.model_selection import RandomizedSearchCV\n",
    "import numpy as np\n",
    "\n",
    "# defining parameter range\n",
    "param_grid = {'C': [0.1, 1, 10, 100, 1000],\n",
    "              'gamma': [1, 0.1, 0.01, 0.001, 0.0001],\n",
    "              'kernel': ['rbf']}\n",
    "\n",
    "print(param_grid)"
   ]
  },
  {
   "cell_type": "code",
   "execution_count": 16,
   "id": "be7efb46",
   "metadata": {},
   "outputs": [],
   "source": [
    "from sklearn.model_selection import GridSearchCV\n",
    "\n",
    "grid = GridSearchCV(estimator =classifier, param_grid = param_grid, \n",
    "                          cv = 3, n_jobs = -1, verbose = 2)"
   ]
  },
  {
   "cell_type": "code",
   "execution_count": 19,
   "id": "e96915ef",
   "metadata": {},
   "outputs": [
    {
     "name": "stdout",
     "output_type": "stream",
     "text": [
      "Fitting 3 folds for each of 25 candidates, totalling 75 fits\n"
     ]
    },
    {
     "data": {
      "text/plain": [
       "GridSearchCV(cv=3, estimator=SVC(), n_jobs=-1,\n",
       "             param_grid={'C': [0.1, 1, 10, 100, 1000],\n",
       "                         'gamma': [1, 0.1, 0.01, 0.001, 0.0001],\n",
       "                         'kernel': ['rbf']},\n",
       "             verbose=2)"
      ]
     },
     "execution_count": 19,
     "metadata": {},
     "output_type": "execute_result"
    }
   ],
   "source": [
    "# fitting the model for grid search\n",
    "grid.fit(x_train, y_train)"
   ]
  },
  {
   "cell_type": "code",
   "execution_count": 20,
   "id": "c769942e",
   "metadata": {},
   "outputs": [
    {
     "name": "stdout",
     "output_type": "stream",
     "text": [
      "{'C': 100, 'gamma': 0.01, 'kernel': 'rbf'}\n",
      "SVC(C=100, gamma=0.01)\n"
     ]
    }
   ],
   "source": [
    "# print best parameter after tuning\n",
    "print(grid.best_params_)\n",
    " \n",
    "# print how our model looks after hyper-parameter tuning\n",
    "print(grid.best_estimator_)"
   ]
  },
  {
   "cell_type": "code",
   "execution_count": 29,
   "id": "ba0be830",
   "metadata": {},
   "outputs": [
    {
     "name": "stdout",
     "output_type": "stream",
     "text": [
      "\n",
      "0.8552811145782471\n",
      "[[42  5]\n",
      " [12 41]]\n",
      "              precision    recall  f1-score   support\n",
      "\n",
      "           0       0.78      0.89      0.83        47\n",
      "           1       0.89      0.77      0.83        53\n",
      "\n",
      "    accuracy                           0.83       100\n",
      "   macro avg       0.83      0.83      0.83       100\n",
      "weighted avg       0.84      0.83      0.83       100\n",
      "\n",
      "0.83\n"
     ]
    }
   ],
   "source": [
    "# import the builtin time module\n",
    "import time\n",
    "\n",
    "# Grab Currrent Time Before Running the Code\n",
    "start = time.time()\n",
    "\n",
    "\n",
    "classifier = svm.SVC(C=100, gamma=0.01)\n",
    "\n",
    "y_train=y_train.astype('int')\n",
    "classifier.fit(x_train, y_train)\n",
    "y_pred = classifier.predict(x_test)\n",
    "\n",
    "# Grab Currrent Time After Running the Code\n",
    "end = time.time()\n",
    "\n",
    "#Subtract Start Time from The End Time\n",
    "total_time = end - start\n",
    "print(\"\\n\"+ str(total_time))\n",
    "\n",
    "from sklearn.metrics import classification_report, confusion_matrix, accuracy_score\n",
    "print(confusion_matrix(y_test,y_pred))\n",
    "print(classification_report(y_test,y_pred))\n",
    "print(accuracy_score(y_test, y_pred))"
   ]
  },
  {
   "cell_type": "code",
   "execution_count": null,
   "id": "b7017bb9",
   "metadata": {},
   "outputs": [],
   "source": []
  }
 ],
 "metadata": {
  "kernelspec": {
   "display_name": "Python 3 (ipykernel)",
   "language": "python",
   "name": "python3"
  },
  "language_info": {
   "codemirror_mode": {
    "name": "ipython",
    "version": 3
   },
   "file_extension": ".py",
   "mimetype": "text/x-python",
   "name": "python",
   "nbconvert_exporter": "python",
   "pygments_lexer": "ipython3",
   "version": "3.9.7"
  }
 },
 "nbformat": 4,
 "nbformat_minor": 5
}
